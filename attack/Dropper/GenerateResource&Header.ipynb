{
 "cells": [
  {
   "cell_type": "code",
   "execution_count": 7,
   "id": "ca069e03-d00b-43f4-9381-a06be7699b9b",
   "metadata": {},
   "outputs": [
    {
     "name": "stdout",
     "output_type": "stream",
     "text": [
      "Resource and header files have been updated.\n"
     ]
    }
   ],
   "source": [
    "import os\n",
    "\n",
    "def update_resource_files(directory, rc_filename, header_filename):\n",
    "    files = sorted(os.listdir(directory))  # List and sort files in the directory\n",
    "    id_base = 101  # Starting ID for resources\n",
    "\n",
    "    # Update the header file\n",
    "    with open(header_filename, 'w') as header:\n",
    "        header.write('#pragma once\\n')\n",
    "        header.write('//{{NO_DEPENDENCIES}}\\n')\n",
    "        header.write('// Microsoft Visual C++ generated include file.\\n')\n",
    "        header.write('// Used by Resource.rc\\n//\\n')\n",
    "        header.write('#define BIN 256\\n')\n",
    "        for i, filename in enumerate(files, start=id_base):\n",
    "            header.write(f'#define IDR_BIN{i - id_base + 1} {i}\\n')\n",
    "        header.write('// Next default values for new objects\\n// \\n')\n",
    "        header.write('#ifdef APSTUDIO_INVOKED\\n')\n",
    "        header.write('#ifndef APSTUDIO_READONLY_SYMBOLS\\n')\n",
    "        header.write(f'#define _APS_NEXT_RESOURCE_VALUE {i + 1}\\n')\n",
    "        header.write('#define _APS_NEXT_COMMAND_VALUE 40001\\n')\n",
    "        header.write('#define _APS_NEXT_CONTROL_VALUE 1001\\n')\n",
    "        header.write('#define _APS_NEXT_SYMED_VALUE 101\\n')\n",
    "        header.write('#endif\\n')\n",
    "        header.write('#endif\\n')\n",
    "\n",
    "    # Generate .rc file content\n",
    "    with open(rc_filename, 'w') as rc:\n",
    "        rc.write('// Microsoft Visual C++ generated resource script.\\n//\\n')\n",
    "        rc.write('#include \"resource.h\"\\n\\n')\n",
    "        rc.write('#define APSTUDIO_READONLY_SYMBOLS\\n')\n",
    "        rc.write('/////////////////////////////////////////////////////////////////////////////\\n')\n",
    "        rc.write('// Generated from the TEXTINCLUDE 2 resource.\\n')\n",
    "        rc.write('//\\n')\n",
    "        rc.write('#include \"afxres.h\"\\n\\n')\n",
    "        rc.write('/////////////////////////////////////////////////////////////////////////////\\n')\n",
    "        rc.write('#undef APSTUDIO_READONLY_SYMBOLS\\n\\n')\n",
    "        rc.write('/////////////////////////////////////////////////////////////////////////////\\n')\n",
    "        rc.write('// Portuguese (Brazil) resources\\n\\n')\n",
    "        rc.write('#if !defined(AFX_RESOURCE_DLL) || defined(AFX_TARG_PTB)\\n')\n",
    "        rc.write('LANGUAGE LANG_PORTUGUESE, SUBLANG_PORTUGUESE_BRAZILIAN\\n\\n')\n",
    "        rc.write('#ifdef APSTUDIO_INVOKED\\n')\n",
    "        rc.write('/////////////////////////////////////////////////////////////////////////////\\n')\n",
    "        rc.write('// TEXTINCLUDE\\n\\n')\n",
    "        rc.write('1 TEXTINCLUDE \\n')\n",
    "        rc.write('BEGIN\\n')\n",
    "        rc.write('\"resource.h\\\\0\"\\n')\n",
    "        rc.write('END\\n\\n')\n",
    "        rc.write('2 TEXTINCLUDE \\n')\n",
    "        rc.write('BEGIN\\n')\n",
    "        rc.write('\"#include \\\\\"\"afxres.h\\\\\"\\\\r\\\\n\"\\n')\n",
    "        rc.write('\\\\0\"\\n')\n",
    "        rc.write('END\\n\\n')\n",
    "        rc.write('3 TEXTINCLUDE \\n')\n",
    "        rc.write('BEGIN\\n')\n",
    "        rc.write('\"\\\\r\\\\n\"\\n')\n",
    "        rc.write('\\\\0\"\\n')\n",
    "        rc.write('END\\n\\n')\n",
    "        rc.write('#endif    // APSTUDIO_INVOKED\\n')\n",
    "        rc.write('/////////////////////////////////////////////////////////////////////////////\\n')\n",
    "        rc.write('// BIN\\n\\n')\n",
    "        for i, filename in enumerate(files, start=id_base):\n",
    "            file_path = os.path.join(directory, filename).replace('\\\\', '/')\n",
    "            rc.write(f'IDR_BIN{i - id_base + 1} BIN \"{file_path}\"\\n')\n",
    "        rc.write('#endif    // Portuguese (Brazil) resources\\n')\n",
    "        rc.write('/////////////////////////////////////////////////////////////////////////////\\n\\n')\n",
    "        rc.write('#ifndef APSTUDIO_INVOKED\\n')\n",
    "        rc.write('/////////////////////////////////////////////////////////////////////////////\\n')\n",
    "        rc.write('// Generated from the TEXTINCLUDE 3 resource.\\n')\n",
    "        rc.write('/////////////////////////////////////////////////////////////////////////////\\n')\n",
    "        rc.write('#endif    // not APSTUDIO_INVOKED\\n')\n",
    "\n",
    "if __name__ == \"__main__\":\n",
    "    directory = \"C:/Users/hayat/new_binaries\"  # Directory containing the binary files\n",
    "    rc_filename = \"Resource.rc\"  # Path to the output .rc file\n",
    "    header_filename = \"resource.h\"  # Path to the header file\n",
    "    update_resource_files(directory, rc_filename, header_filename)\n",
    "    print(\"Resource and header files have been updated.\")\n"
   ]
  },
  {
   "cell_type": "code",
   "execution_count": null,
   "id": "e9d8aac5-d186-4fba-b76c-d54424321e07",
   "metadata": {},
   "outputs": [],
   "source": []
  }
 ],
 "metadata": {
  "kernelspec": {
   "display_name": "Python 3 (ipykernel)",
   "language": "python",
   "name": "python3"
  },
  "language_info": {
   "codemirror_mode": {
    "name": "ipython",
    "version": 3
   },
   "file_extension": ".py",
   "mimetype": "text/x-python",
   "name": "python",
   "nbconvert_exporter": "python",
   "pygments_lexer": "ipython3",
   "version": "3.11.7"
  }
 },
 "nbformat": 4,
 "nbformat_minor": 5
}
